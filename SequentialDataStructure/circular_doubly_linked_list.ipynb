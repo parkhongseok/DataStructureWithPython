{
 "cells": [
  {
   "cell_type": "markdown",
   "metadata": {},
   "source": [
    "\"\"\"양방향 연결리스트, Doubly Linked list\"\"\"\n",
    "            \n",
    "            [head, size] ----> [dummy]<->[]<->[]<->[]<->[dummy]         Circular\n",
    "                                        \n",
    "1. Node Class \n",
    "- 구조\n",
    "                    [ prev, key, next ]\n",
    "\n",
    "- 규칙\n",
    "    연결 리스트를 구성하는 노드는 key 와, next link, prev link 로 구성된다.\n",
    "    노드 객체를 print 했을 때, key값을 반환하도록하는 특수 함수가 필요하다\n",
    "\n",
    "- 구현\n",
    "    __init__\n",
    "        key를 인자로 받아 초화하고, next, prev는 None으로 초기화한다. (필요에 따라 value를 가질 수 있다) \n",
    "    __str__\n",
    "        key값을 string으로 반환한다.\n",
    "\n",
    "2. 원형 양방향 연결리스트, Circular Doubly Linked list\n",
    "- 구조\n",
    "                        [head, size]\n",
    "\n",
    "- 규칙\n",
    "    1) 이전 노드로 향하는 링크도 갖고 있어서, 양 방향으로 접근이 가능하다.\n",
    "    2) 마지막 노드와 첫 노드가 서로 연결된 원형 연결리스트를 가정한다.\n",
    "    3) 첫 노드, 즉 head는 언제나 Dummy Node가 되도록 한다\n",
    "        Dummy Node는 key값이 없는 일종의 표시자 역할을 한다.\n",
    "        따라서 빈 연결 리스트(key값이 있는 노드가 0개)는, dummy를 하나로만 구성된다.\n",
    "\n",
    "- 필요한 메서드\n",
    "    특수 메서드\n",
    "    __init__\n",
    "        key값이 없는 dummy노드를 생성하고 이를 맴버변수 head를 dummy노드의 주소로 초기화한다.\n",
    "        size는 0으로 초기화하며 dummy는 카운트하지 않는다.\n",
    "    __iter__\n",
    "    __\n"
   ]
  },
  {
   "cell_type": "code",
   "execution_count": null,
   "metadata": {},
   "outputs": [],
   "source": []
  }
 ],
 "metadata": {
  "language_info": {
   "name": "python"
  }
 },
 "nbformat": 4,
 "nbformat_minor": 2
}
