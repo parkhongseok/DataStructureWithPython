{
 "cells": [
  {
   "cell_type": "markdown",
   "metadata": {},
   "source": [
    "- Queue Class의 정의\n",
    "\n",
    "                    [][][][][][][a] <- First in\n",
    "                    [][][][][][][a] <- First in\n",
    "\n",
    "        fist out <- [a][][][][][][]\n",
    "\n",
    "규칙 : FIFO, 들어온 순서대로 데이터가 쌓이고, 삭제 시 들어온 순서부터 제거되는 자료 구조\n",
    "연산 : 삽입(enqueue), 삭제(dequeue)\n",
    "특수 메서드 : __len__, __str__, __iter__\n",
    "\n",
    "\n",
    "- 구현 시나리오\n",
    "\n",
    "생성자 호출 시 queue라는 빈 리스트 생성\n",
    "enqueue 호출 시, append를 호출하여 맨 뒤에 요소 삽입\n",
    "dequeue 호출 시, 삭제 후 삭제된 값 반환\n",
    "    가장 먼저 저장된 값의 인덱스를 찾아서 해당 요소를 지워도 되지만, 이는 나머지 요소를 다시 정렬하는 과정을 수반 => 비효율적\n",
    "    따라서 실제로 요소를 삭제하는 게 아니라, frontIndex값을 생성자의 맴버변수로 만들어서, 삭제될 때마다 이 값을 1 증가시킴 (상상 삭제)\n",
    "    이후 값을 읽을 때, frontIdex부터 읽으면 되니까 __str__, __iter__, __len__ 구현할 필요\n",
    "    *** 빈 queue인지 검사 후, 그렇다면 \"Queue is empty\" \n",
    "    *** frontIndex 때문에 빈 queue인지 알기 위해선, 다른 방법 필요 =>모든 요소가 dequeue된 List의 실제 크기는 0이 아니라, frontIndex임을 이용\n",
    "__str__, __iter__ 호출 시, frontIndex 부터 끝까지 값 반환"
   ]
  },
  {
   "cell_type": "code",
   "execution_count": 5,
   "metadata": {},
   "outputs": [
    {
     "data": {
      "text/plain": [
       "' 또는 원형 큐, 연결리스트를 이용한 큐 개념 확장'"
      ]
     },
     "execution_count": 5,
     "metadata": {},
     "output_type": "execute_result"
    }
   ],
   "source": [
    "class myQueue:\n",
    "    #빈 큐와, 거짓으로 삭제된 요소의 번호를 저장할 맨 앞 인덱스 초기화\n",
    "    def __init__(self) :\n",
    "        self.queue = []\n",
    "        self.frontIndex = 0\n",
    "    # 새로운 값을 맨 끝에 삽입\n",
    "    def enqueue(self, item) : \n",
    "        self.queue.append(item)\n",
    "    # 실제로 삭제하는 게 아니라, 시작 인덱스만 늘리는 방식으로 구현\n",
    "    def dequeue(self) : \n",
    "        if self.frontIndex == len(self.queue) :\n",
    "            print(\"Queue is empty\")\n",
    "        else :\n",
    "            self.frontIndex += 1\n",
    "            return self.queue[self.frontIndex - 1]\n",
    "    \n",
    "    # 거짓 길이 반환\n",
    "    def __len__(self):\n",
    "        return len(self.queue) - self.frontIndex\n",
    "    # frontIndex부터 끝까지 리스트를 복사하여 문자열로 반환 비효율적인 부분인듯.. \n",
    "    def __str__(self):\n",
    "        return str(self.queue[self.frontIndex:])\n",
    "    #제너레이터를 통해 frontIndex부터 큐의 요소를 반환\n",
    "    def __iter__(self):\n",
    "        for i in range(self.frontIndex, len(self.queue)):\n",
    "            yield self.queue[i]\n",
    "            \n",
    "''' ToDo 메모리 낭비 개선, 적당한 시점에 리스트 비우기 또는 리스트가 참조하는 주소값 자체를 Front\n",
    "index로 변경하여 메모리 복사 과정 없이 매 시간 리스트 관리 '''\n",
    "''' 또는 원형 큐, 연결리스트를 이용한 큐 개념 확장'''\n",
    "    "
   ]
  },
  {
   "cell_type": "code",
   "execution_count": 6,
   "metadata": {},
   "outputs": [
    {
     "name": "stdout",
     "output_type": "stream",
     "text": [
      "[]\n",
      "[2]\n",
      "[2, 3]\n",
      "[2, 3, 5]\n",
      "[2, 3, 5, 6]\n"
     ]
    }
   ],
   "source": [
    "# 인스턴스 생성 및 enqueue\n",
    "Q = myQueue()\n",
    "print(Q), Q.enqueue(2)\n",
    "print(Q), Q.enqueue(3)\n",
    "print(Q), Q.enqueue(5)\n",
    "print(Q), Q.enqueue(6)\n",
    "print(Q)"
   ]
  },
  {
   "cell_type": "code",
   "execution_count": 7,
   "metadata": {},
   "outputs": [
    {
     "name": "stdout",
     "output_type": "stream",
     "text": [
      "[2, 3, 5, 6] : length is 4\n",
      "2\n",
      "3\n",
      "5\n",
      "6\n"
     ]
    }
   ],
   "source": [
    "# __len__\n",
    "print(Q, \": length is\", len(Q))\n",
    "\n",
    "# __iter__\n",
    "for i in Q:\n",
    "    print(i)"
   ]
  },
  {
   "cell_type": "code",
   "execution_count": 8,
   "metadata": {},
   "outputs": [
    {
     "name": "stdout",
     "output_type": "stream",
     "text": [
      "[2, 3, 5, 6]\n",
      "2 [3, 5, 6]\n",
      "3 [5, 6]\n",
      "5 [6]\n",
      "6 []\n",
      "Queue is empty\n",
      "None\n"
     ]
    }
   ],
   "source": [
    "# dequeue \n",
    "print(Q)\n",
    "print(Q.dequeue(), Q)\n",
    "print(Q.dequeue(), Q)\n",
    "print(Q.dequeue(), Q)\n",
    "print(Q.dequeue(), Q)\n",
    "print(Q.dequeue())\n"
   ]
  }
 ],
 "metadata": {
  "kernelspec": {
   "display_name": "phs",
   "language": "python",
   "name": "python3"
  },
  "language_info": {
   "codemirror_mode": {
    "name": "ipython",
    "version": 3
   },
   "file_extension": ".py",
   "mimetype": "text/x-python",
   "name": "python",
   "nbconvert_exporter": "python",
   "pygments_lexer": "ipython3",
   "version": "3.12.5"
  }
 },
 "nbformat": 4,
 "nbformat_minor": 2
}
