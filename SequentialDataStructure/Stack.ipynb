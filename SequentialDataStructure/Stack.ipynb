{
 "cells": [
  {
   "cell_type": "markdown",
   "metadata": {},
   "source": [
    "- Stack의 구현\n",
    "\n",
    "규칙 : FILO, 삽입 시 들어온 순서대로 데이터가 쌓이지만, 삭제 시 최근 들어온 순서부터 나가는 자료 구조\n",
    "    순차적으로 값이 삽입되며, 이를 삭제 시 역순으로 따라들어가며 진행\n",
    "    리스트로 따졌을 떄, 삽입은 맨 뒤에 값을 추가하며, 삭제도 맨 뒤부터 진행\n",
    "연산 : 삽입(push), 삭제(pop), 최상위값 반환(top)\n",
    "특수 메서드 : 길이 구하기\n",
    "\n",
    "- 구현 시나리오\n",
    "myStack Class 구현\n",
    "빈 리스트를 맴버 변수 stack으로 선언\n",
    "push 연산 시 기존 리스트의 append 메서드를 통해, 빈 리스트의 가장 뒤부터 하나씩 삭제 구현  \n",
    "pop 연산 시 기존 리스트의 pop 메서드를 통해, 가장 마지막 값의 삭제 구현 *** 텅 빈 경우 \"Stack is empty\" 메시지 반환\n",
    "top 연산 시 리스트의 가장 큰 인덱스를 통해 마지막 값에 접근, 해당 요소 반환 *** 텅 빈 경우 \"Stack is empty\" 메시지 반환\n",
    "--len-- 특수 메서드 구현 len()함수를 사용할 수 있도록, 특수 메서드 구현 ->리스트를 맴버로 사용하기 떄문에 리스트에 구현된 len()을 호출\n"
   ]
  },
  {
   "cell_type": "code",
   "execution_count": 2,
   "metadata": {},
   "outputs": [],
   "source": [
    "class myStack:\n",
    "    # 빈 스택을 초기화\n",
    "    def __init__(self) -> None:\n",
    "        self.stack = []\n",
    "    # 리스트의 요소 맨 끝에 새로운 요소 삽입\n",
    "    def push(self, item):\n",
    "        self.stack.append(item)\n",
    "    # 리스트의 가장 마지막 요소 삭제\n",
    "    def pop(self):\n",
    "        self.stack.pop()\n",
    "    # 리스트 클래스에서 구현된 len()함수를 호출 후 반환\n",
    "    def __len__(self):\n",
    "        return len(self.stack)"
   ]
  },
  {
   "cell_type": "code",
   "execution_count": null,
   "metadata": {},
   "outputs": [],
   "source": []
  }
 ],
 "metadata": {
  "kernelspec": {
   "display_name": "phs",
   "language": "python",
   "name": "python3"
  },
  "language_info": {
   "codemirror_mode": {
    "name": "ipython",
    "version": 3
   },
   "file_extension": ".py",
   "mimetype": "text/x-python",
   "name": "python",
   "nbconvert_exporter": "python",
   "pygments_lexer": "ipython3",
   "version": "3.12.5"
  }
 },
 "nbformat": 4,
 "nbformat_minor": 2
}
