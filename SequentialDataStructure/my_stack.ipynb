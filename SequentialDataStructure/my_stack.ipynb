{
 "cells": [
  {
   "cell_type": "markdown",
   "metadata": {},
   "source": [
    "- Stack Class의 정의\n",
    "\n",
    "규칙 : FILO, 삽입 시 들어온 순서대로 데이터가 쌓이지만, 삭제 시 최근 들어온 순서부터 나가는 자료 구조\n",
    "    순차적으로 값이 삽입되며, 맨 끝값만 삭제 가능\n",
    "연산 : 삽입(push), 삭제(pop), 최상위값 반환(top)\n",
    "특수 메서드 : __len__에서 길이 구하기, __str__에서 print했을 때 주소가 아니라 리스트 그대로 나오기\n",
    "\n",
    "\n",
    "- 구현 시나리오\n",
    "\n",
    "생성자 호출 시 stack이라는 이름으로 빈 리스트 생성\n",
    "push 연산 시 리스트 클래스의 append 메서드를 통해 맨 끝에 요소 삽입  \n",
    "pop 연산 시 리스트 클래스의 pop 메서드를 통해, 가장 마지막 값 삭제 *** 텅 빈 경우 \"Stack is empty\" 메시지 반환\n",
    "top 연산 시 가장 큰 인덱스를 통해 마지막 요소에 접근, 해당 요소 반환 *** 텅 빈 경우 \"Stack is empty\" 메시지 반환\n",
    "--len-- 특수 메서드 구현 len()함수를 사용할 수 있도록, 특수 메서드 구현 ->리스트를 맴버로 사용하기 떄문에 리스트에 구현된 len()을 호출\n",
    "--str-- 특수 메서드 구현 : 현재 class로 생성한 인스턴스인 stack 변수는 list의 주소 값을 가리킨다. 따라서 print()를 통해 stack을 볼 수 있도록, str()을 이용해 타입 변환\n"
   ]
  },
  {
   "cell_type": "code",
   "execution_count": 43,
   "metadata": {},
   "outputs": [],
   "source": [
    "class myStack:\n",
    "    # 빈 스택을 초기화\n",
    "    def __init__(self) -> None:\n",
    "        self.stack = []\n",
    "    # 리스트의 요소 맨 끝에 새로운 요소 삽입\n",
    "    def push(self, item):\n",
    "        self.stack.append(item)\n",
    "    # 리스트의 가장 마지막 요소 삭제\n",
    "    def pop(self):\n",
    "        try:\n",
    "            return self.stack.pop()\n",
    "        except IndexError :\n",
    "            print(\"Stack is empty\")\n",
    "    def top(self):\n",
    "        try:\n",
    "            return self.stack[-1]\n",
    "        except IndexError:\n",
    "            print(\"Stack is empty\")\n",
    "        \n",
    "    # 리스트 클래스에서 구현된 len()함수를 호출 후 반환\n",
    "    def __len__(self):\n",
    "        return len(self.stack)\n",
    "    \n",
    "    def __str__(self):\n",
    "        return str(self.stack)"
   ]
  },
  {
   "cell_type": "code",
   "execution_count": 50,
   "metadata": {},
   "outputs": [
    {
     "name": "stdout",
     "output_type": "stream",
     "text": [
      "stack is []\n",
      "Stack is empty\n",
      "Stack is empty\n"
     ]
    }
   ],
   "source": [
    "#빈 스텍 생성\n",
    "stack = myStack()\n",
    "\n",
    "# pirnt()\n",
    "print(\"stack is\", stack)\n",
    "\n",
    "# 요소 삭제 및 top 수행 시 메시지 출력\n",
    "stack.pop()\n",
    "stack.top()\n",
    "\n"
   ]
  },
  {
   "cell_type": "code",
   "execution_count": 61,
   "metadata": {},
   "outputs": [
    {
     "name": "stdout",
     "output_type": "stream",
     "text": [
      "[3]\n",
      "[3, 5]\n",
      "[3, 5, 7]\n",
      "[3, 5, 7, 9]\n"
     ]
    }
   ],
   "source": [
    "# push 연산으로 요소 삽입\n",
    "stack.push(3)\n",
    "print(stack)\n",
    "\n",
    "stack.push(5)\n",
    "print(stack)\n",
    "\n",
    "stack.push(7)\n",
    "print(stack)\n",
    "\n",
    "stack.push(9)\n",
    "print(stack)\n",
    "\n"
   ]
  },
  {
   "cell_type": "code",
   "execution_count": 62,
   "metadata": {},
   "outputs": [
    {
     "name": "stdout",
     "output_type": "stream",
     "text": [
      "9 [3, 5, 7]\n",
      "7 [3, 5]\n",
      "5 [3]\n",
      "3 []\n",
      "[]\n"
     ]
    }
   ],
   "source": [
    "# pop 연산으로 요소 삭제\n",
    "print(stack.pop(), stack)\n",
    "print(stack.pop(), stack)\n",
    "print(stack.pop(), stack)\n",
    "print(stack.pop(), stack)\n",
    "print(stack)"
   ]
  },
  {
   "cell_type": "code",
   "execution_count": 64,
   "metadata": {},
   "outputs": [
    {
     "ename": "ModuleNotFoundError",
     "evalue": "No module named 'Stack'",
     "output_type": "error",
     "traceback": [
      "\u001b[0;31m---------------------------------------------------------------------------\u001b[0m",
      "\u001b[0;31mModuleNotFoundError\u001b[0m                       Traceback (most recent call last)",
      "Cell \u001b[0;32mIn[64], line 1\u001b[0m\n\u001b[0;32m----> 1\u001b[0m \u001b[38;5;28;01mfrom\u001b[39;00m \u001b[38;5;21;01mStack\u001b[39;00m \u001b[38;5;28;01mimport\u001b[39;00m myStack \n",
      "\u001b[0;31mModuleNotFoundError\u001b[0m: No module named 'Stack'"
     ]
    }
   ],
   "source": [
    "from Stack.ipynb import myStack "
   ]
  },
  {
   "cell_type": "code",
   "execution_count": null,
   "metadata": {},
   "outputs": [],
   "source": []
  }
 ],
 "metadata": {
  "kernelspec": {
   "display_name": "phs",
   "language": "python",
   "name": "python3"
  },
  "language_info": {
   "codemirror_mode": {
    "name": "ipython",
    "version": 3
   },
   "file_extension": ".py",
   "mimetype": "text/x-python",
   "name": "python",
   "nbconvert_exporter": "python",
   "pygments_lexer": "ipython3",
   "version": "3.12.5"
  }
 },
 "nbformat": 4,
 "nbformat_minor": 2
}
