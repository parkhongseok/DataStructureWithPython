{
 "cells": [
  {
   "cell_type": "markdown",
   "metadata": {},
   "source": [
    "- Queue Class의 정의\n",
    "\n",
    "규칙 : FIFO, 들어온 순서대로 데이터가 쌓이고, 삭제 시 들어온 순서부터 제거되는 자료 구조\n",
    "연산 : 삽입(enqueue), 삭제(dequeue)\n",
    "특수 메서드 : __len__, __str__\n",
    "\n",
    "\n",
    "- 구현 시나리오\n",
    "\n",
    "생성자 호출 시 queue라는 빈 리스트 생성\n",
    "enqueue 호출 시, append를 호출하여 맨 뒤에 요소 삽입\n",
    "dequeue 호출 시, 삭제 후 삭제된 값 반환\n",
    "    가장 먼저 저장된 값의 인덱스를 찾아서 해당 요소를 지워도 되지만, 이는 나머지 요소를 다시 정렬하는 과정을 수반 => 비효율적\n",
    "    따라서 실제로 요소를 삭제하는 게 아니라, frontIndex값을 생성자의 맴버변수로 만들어서, 삭제될 때마다 이 값을 1 증가시킴 (상상 삭제)\n",
    "    이후 값을 읽을 때, frontIdex부터 읽으면 되니까 __iter__ 그리고 __str__ 구현할 필요가 있을지도\n",
    "    *** 빈 queue인지 검사 후, 그렇다면 \"Queue is empty\" \n",
    "    *** frontIndex 때문에 빈 queue인지 알기 위해선, 다른 방법 필요 =>모든 요소가 dequeue된 List의 실제 크기는 0이 아니라, frontIndex임을 이용 \n",
    "\n",
    "\n",
    "\n"
   ]
  },
  {
   "cell_type": "code",
   "execution_count": null,
   "metadata": {},
   "outputs": [],
   "source": []
  }
 ],
 "metadata": {
  "language_info": {
   "name": "python"
  }
 },
 "nbformat": 4,
 "nbformat_minor": 2
}
