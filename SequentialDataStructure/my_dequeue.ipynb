{
 "cells": [
  {
   "cell_type": "markdown",
   "metadata": {},
   "source": [
    "- Dequeue Class의 정의 (List 사용)\n",
    "\n",
    "appendLeft, popLeft <-> [][][][][][][] <-> appedRight, popRight\n",
    "\n",
    "규칙 : 리스트의 양 끝에서 삽입과 삭제가 이뤄짐\n",
    "연산 : 오른쪽 삽입(appendRight), 오른쪽 삭제(popRight), \n",
    "      왼쪽 삽입(appendLeft), 왼쪽 삭제(popLeft)\n",
    "특수 메서드 : __len__, __str__, __iter__\n",
    "\n",
    "\n",
    "- 구현 시나리오\n",
    "오른쪽 삽입/삭제 호출 시 append, pop 호출\n",
    "왼쪽 삽입 시 모든 요소를 복사해서 한 칸씩 오른쪽으로 옮겨야 해서 O(n)\n",
    "\"\"\" 리스트가 아니라, 양방향 연결 리스트로 구성하면 더 효율적일듯 O(1)\"\"\"\n",
    "왼쪽 삭제 시 myQueue 클래스의 dequeue 호출"
   ]
  },
  {
   "cell_type": "code",
   "execution_count": 122,
   "metadata": {},
   "outputs": [],
   "source": [
    "from my_queue import myQueue\n",
    "\n",
    "# 상속 연습을 위해 queue사용 : \n",
    "# 단점, list 이름이 queue라서 별로 좋지 않음, 객체 생성으로 인한 메모리 차지로 성능 저하\n",
    "# 장점, 특수 메서드 재사용\n",
    "class myDequeue(myQueue) :\n",
    "    def __init__(self):\n",
    "        super().__init__()\n",
    "\n",
    "    \"\"\"오른쪽 연산\"\"\"\n",
    "    # 오른쪽 삽입 [][][][][a] <- a : 단순 append 호출 \n",
    "    def appendRight(self, item) :\n",
    "        self.queue.append(item)\n",
    "    def popRight(self):\n",
    "    # 부모 클래스의 거짓 길이를 구하는 특수 메서드를 호출하여, 빈 리스트로 취급되면 메시지 \n",
    "        if self.__len__() == 0:\n",
    "            print(\"Dequeue is empty\")\n",
    "    # 오른쪽 삭제 [][][][][a] -> a : 단순 pop 호출\n",
    "        else :\n",
    "            return self.queue.pop()\n",
    "    \n",
    "    \"\"\"왼쪽 연산\"\"\"\n",
    "    # 왼쪽 삽입  a -> [a][][][][] \n",
    "    def appendLeft(self, item):\n",
    "    # 첫 요소라면 단순 append (이떄 호출하는 길이 함수는 queue의 거짓 길이가 아님)\n",
    "        if len(self.queue) == 0 :\n",
    "            self.queue.append(item)\n",
    "            print(\"it's first element\")\n",
    "    # new item 뒤에 deque 복사\n",
    "        else :\n",
    "            self.queue = [item] + self.queue\n",
    "    # 왼쪽 삭제 a <- [a][][][][] : return 값으로 부모의 deuque 호출 \n",
    "    def popLeft(self):\n",
    "        return self.dequeue()\n",
    "\n",
    "    # 이외의 특수 메서드는 queue로부터 상속\n"
   ]
  },
  {
   "cell_type": "code",
   "execution_count": 123,
   "metadata": {},
   "outputs": [
    {
     "name": "stdout",
     "output_type": "stream",
     "text": [
      "[]\n"
     ]
    }
   ],
   "source": [
    "deque = myDequeue()\n",
    "print(deque)"
   ]
  },
  {
   "cell_type": "code",
   "execution_count": 124,
   "metadata": {},
   "outputs": [
    {
     "name": "stdout",
     "output_type": "stream",
     "text": [
      "it's first element\n",
      "[1]\n",
      "[2, 1]\n",
      "[3, 2, 1]\n"
     ]
    }
   ],
   "source": [
    "# 왼쪽 삽입  a -> [a][][][][]\n",
    "deque.appendLeft(1)\n",
    "print(deque)\n",
    "deque.appendLeft(2)\n",
    "print(deque)\n",
    "deque.appendLeft(3)\n",
    "print(deque)"
   ]
  },
  {
   "cell_type": "code",
   "execution_count": 125,
   "metadata": {},
   "outputs": [
    {
     "name": "stdout",
     "output_type": "stream",
     "text": [
      "3 [2, 1]\n",
      "2 [1]\n",
      "1 []\n",
      "Queue is empty\n",
      "None []\n"
     ]
    }
   ],
   "source": [
    "# 왼쪽 삭제 a <- [a][][][][]\n",
    "print(deque.popLeft(), deque)\n",
    "print(deque.popLeft(), deque)\n",
    "print(deque.popLeft(), deque)\n",
    "print(deque.popLeft(), deque)"
   ]
  },
  {
   "cell_type": "code",
   "execution_count": 126,
   "metadata": {},
   "outputs": [
    {
     "name": "stdout",
     "output_type": "stream",
     "text": [
      "[1]\n",
      "[1, 2]\n",
      "[1, 2, 3]\n"
     ]
    }
   ],
   "source": [
    "# 오른쪽 삽입 [][][][][a] <- a\n",
    "deque.appendRight(1)\n",
    "print(deque)\n",
    "deque.appendRight(2)\n",
    "print(deque)\n",
    "deque.appendRight(3)\n",
    "print(deque)"
   ]
  },
  {
   "cell_type": "code",
   "execution_count": 127,
   "metadata": {},
   "outputs": [
    {
     "name": "stdout",
     "output_type": "stream",
     "text": [
      "[1, 2] 3\n",
      "[1] 2\n",
      "[] 1\n",
      "Dequeue is empty\n",
      "[] None\n",
      "Dequeue is empty\n",
      "[] None\n"
     ]
    }
   ],
   "source": [
    "# 오른쪽 삭제 [][][][][a] -> a\n",
    "print(deque, deque.popRight())\n",
    "print(deque, deque.popRight())\n",
    "print(deque, deque.popRight())\n",
    "print(deque, deque.popRight())\n",
    "print(deque, deque.popRight())"
   ]
  },
  {
   "cell_type": "code",
   "execution_count": null,
   "metadata": {},
   "outputs": [],
   "source": []
  }
 ],
 "metadata": {
  "kernelspec": {
   "display_name": "phs",
   "language": "python",
   "name": "python3"
  },
  "language_info": {
   "codemirror_mode": {
    "name": "ipython",
    "version": 3
   },
   "file_extension": ".py",
   "mimetype": "text/x-python",
   "name": "python",
   "nbconvert_exporter": "python",
   "pygments_lexer": "ipython3",
   "version": "3.12.5"
  }
 },
 "nbformat": 4,
 "nbformat_minor": 2
}
