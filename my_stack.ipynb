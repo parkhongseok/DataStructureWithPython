{
 "cells": [
  {
   "cell_type": "markdown",
   "metadata": {},
   "source": [
    "<pre>\n",
    "<h1>\n",
    "Stack\n",
    "</h1>\n",
    "\n",
    "                    [][][][][][][a] <- First in\n",
    "\n",
    "                    [a][][][][][][] -> Last out\n",
    "\n",
    "\n",
    "\n",
    "First In Last Out,FILO 형식으로 삽입 시 들어온 순서대로 데이터가 쌓이지만, 삭제 시 최근 들어온 순서부터 나가는 자료 구조\n",
    "순차적으로 값이 삽입되며, 맨 끝값만 삭제 가능\n",
    "\n",
    "\n",
    "<h1>\n",
    "Stack Class\n",
    "</h1>\n",
    "\n",
    "- 필드\n",
    "    \n",
    "\n",
    "- 메서드 명세\n",
    "    특수 메서드\n",
    "    __init__    => 생성자 호출 시, 빈 리스트를 맴버 변수로 갖는 인스턴스 생성\n",
    "    __len__     => len() 메서드를 호출하여, 리스트 클래스에서 구현한 __len__을 사용하여 리스트의 길이 호출한다.\n",
    "    __str__     => 이를 구현하지 않으면, 리스트의 주소를 반환한다. 따라서 리스트 클래스에서 str()을 호출하여, 리스트 클래스에서 구현한 __str__을 사용한다.\n",
    "\n",
    "    \n",
    "\n",
    "    일반 메서드\n",
    "    push(item)        => 리스트의 append 연산으로 맨 끝에 요소 삽입  \n",
    "    pop         => pop 메서드를 통해, 가장 마지막 값 삭제\n",
    "                    =>  텅 빈 경우 \"myStack.pop : Stack is empty\" 메시지 반환\n",
    "    top         => -1인덱스에 해당하는 값을 읽고, 해당 요소 반환\n",
    "                    => 텅 빈 경우 \"myStack.top : Stack is empty\" 메시지 반환\n",
    "</pre>\n"
   ]
  },
  {
   "cell_type": "code",
   "execution_count": 33,
   "metadata": {},
   "outputs": [],
   "source": [
    "class myStack:\n",
    "    # 빈 스택을 초기화\n",
    "    def __init__(self) -> None:\n",
    "        self.stack = []\n",
    "        # 리스트 클래스에서 구현된 len()함수를 호출 후 반환\n",
    "    def __len__(self):\n",
    "        return len(self.stack)\n",
    "    \n",
    "    def __str__(self):\n",
    "        return str(self.stack)\n",
    "    \n",
    "    # 리스트의 요소 맨 끝에 새로운 요소 삽입\n",
    "    def push(self, item):\n",
    "        self.stack.append(item)\n",
    "    # 리스트의 가장 마지막 요소 삭제\n",
    "    def pop(self):\n",
    "        try:\n",
    "            return self.stack.pop()\n",
    "        except IndexError :\n",
    "            print(\"myStack.pop : Stack is empty\")\n",
    "    def top(self):\n",
    "        try:\n",
    "            return self.stack[-1]\n",
    "        except IndexError:\n",
    "            print(\"myStack.top : Stack is empty\")\n",
    "        \n"
   ]
  },
  {
   "cell_type": "code",
   "execution_count": 34,
   "metadata": {},
   "outputs": [
    {
     "name": "stdout",
     "output_type": "stream",
     "text": [
      "stack is []\n",
      "myStack.pop : Stack is empty\n",
      "myStack.top : Stack is empty\n"
     ]
    }
   ],
   "source": [
    "#빈 스텍 생성\n",
    "stack = myStack()\n",
    "\n",
    "# pirnt()\n",
    "print(\"stack is\", stack)\n",
    "\n",
    "# 요소 삭제 및 top 수행 시 메시지 출력\n",
    "stack.pop()\n",
    "stack.top()"
   ]
  },
  {
   "cell_type": "code",
   "execution_count": 35,
   "metadata": {},
   "outputs": [
    {
     "name": "stdout",
     "output_type": "stream",
     "text": [
      "[3]\n",
      "[3, 5]\n",
      "[3, 5, 7]\n",
      "[3, 5, 7, 9]\n"
     ]
    }
   ],
   "source": [
    "# push 연산으로 요소 삽입\n",
    "stack.push(3)\n",
    "print(stack)\n",
    "\n",
    "stack.push(5)\n",
    "print(stack)\n",
    "\n",
    "stack.push(7)\n",
    "print(stack)\n",
    "\n",
    "stack.push(9)\n",
    "print(stack)"
   ]
  },
  {
   "cell_type": "code",
   "execution_count": 36,
   "metadata": {},
   "outputs": [
    {
     "name": "stdout",
     "output_type": "stream",
     "text": [
      "After [3, 5, 7, 9]\n",
      "Top :  9 ,  Pop : 9 ,  Now : [3, 5, 7]\n",
      "Top :  7 ,  Pop : 7 ,  Now : [3, 5]\n",
      "Top :  5 ,  Pop : 5 ,  Now : [3]\n",
      "Top :  3 ,  Pop : 3 ,  Now : []\n",
      "myStack.top : Stack is empty\n",
      "myStack.pop : Stack is empty\n",
      "Top :  None ,  Pop : None ,  Now : []\n",
      "Before []\n"
     ]
    }
   ],
   "source": [
    "# pop 연산으로 요소 삭제, top 연산으로 최상위 요소 조회\n",
    "print(\"Before\", stack)\n",
    "\n",
    "print(\"Top : \", stack.top(), \",  Pop :\", stack.pop(),\",  Now :\", stack)\n",
    "print(\"Top : \", stack.top(), \",  Pop :\", stack.pop(),\",  Now :\", stack)\n",
    "print(\"Top : \", stack.top(), \",  Pop :\", stack.pop(),\",  Now :\", stack)\n",
    "print(\"Top : \", stack.top(), \",  Pop :\", stack.pop(),\",  Now :\", stack)\n",
    "print(\"Top : \", stack.top(), \",  Pop :\", stack.pop(),\",  Now :\", stack)\n",
    "\n",
    "print(\"After\", stack)"
   ]
  }
 ],
 "metadata": {
  "kernelspec": {
   "display_name": "phs",
   "language": "python",
   "name": "python3"
  },
  "language_info": {
   "codemirror_mode": {
    "name": "ipython",
    "version": 3
   },
   "file_extension": ".py",
   "mimetype": "text/x-python",
   "name": "python",
   "nbconvert_exporter": "python",
   "pygments_lexer": "ipython3",
   "version": "3.12.4"
  }
 },
 "nbformat": 4,
 "nbformat_minor": 2
}
