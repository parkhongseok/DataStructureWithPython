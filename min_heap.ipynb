{
 "cells": [
  {
   "cell_type": "markdown",
   "metadata": {},
   "source": [
    "<pre>\n",
    "<h1>\n",
    "Min Heap Class\n",
    "</h1>\n",
    " \n",
    "- 메서드 명세\n",
    "    특수 메서드\n",
    "    __init__\n",
    "        평범한 값을이 담긴 리스트  => 모양성질 만족 : 리스트에 담긴 값을 해석하면 모양성질을 만족한다.\n",
    "        힙정렬 시키는 연산       => 힙성질 만족 : 힙성질이 만족하도록 정렬하는 과정을 거친다.\n",
    "    __str__\n",
    "    __len__\n",
    "\n",
    "    일반 메서드              \n",
    "    makeHeap                => 힙이 아닌 리스트를 힙으로 해석할 수 있도록 재구성 : heapifyDown연산을 반복하여, 힙성질을 만족하도록 만든다\n",
    "    heapifyDown             => 한 노드 제외하고, 해당 노드의 자손이 힙성질을 만족할 때, 해당 노드를 기준으로 내려가면서 힙성질을 만족하도록 재배치한다.\n",
    "\n",
    "    insert                  => 리스트에 append하여 트리에 값을 삽입하면, 마지막 레벨의 가장 왼쪽부터 값이 쌓이며, 이를 힙성질이 만족하도록 root노드까지 올라가며 정렬해야한다.\n",
    "                            => heapifyUp을 호출하여 삽입 후에 힙성질을 만족하도록 만든다.\n",
    "    heapifyUp               \n",
    "    deleteMin               => 이를 삭제한 뒤엔, 다시 정렬이 필요한데 가장 작은 값을 원래 자리에 앉혀두고, 내려가며 정렬하는 방법을 쓴다.\n",
    "                            => 만약 두번째로 큰 값을 올려둔다면 할일이 정말 많아진다. \n",
    "    heapSort                => 자료를 오름차순으로 정렬한다. 최솟값을 계속 맨 뒤로 보낸 뒤 이를 제외하고 재정렬\n",
    "                            => 1. 임의의 리스트를 우선 힙으로 만들기 : makeHeap\n",
    "                            => 2. deleteMin연산을 리스트의 크기만큼 반복 \n",
    "\n",
    "\"\"\"\n",
    "ToDo\n",
    "heapifyUp과 heapifyDown의 재귀적 작성\n",
    "\"\"\"\n",
    "\n",
    "</pre>"
   ]
  },
  {
   "cell_type": "code",
   "execution_count": 42,
   "metadata": {},
   "outputs": [],
   "source": [
    "class MinHeap:\n",
    "    def __init__(self, L=[]):\n",
    "        self.H = L\n",
    "        self.makeHeap()\n",
    "        \n",
    "    def __str__(self):\n",
    "        return str(self.H)\n",
    "    \n",
    "    def __size(self):\n",
    "        return len(self.H)\n",
    "    \n",
    "    def heapifyDown(self, now, size):\n",
    "        #자손과 자신 비교 후 최솟값을 위로 올리고, 나는 아래로 내려감 리프에 도달할떄까지\n",
    "        while now*2+1 < size:\n",
    "            Left = now*2+1\n",
    "            Right = now*2+2\n",
    "            if self.H[Left] < self.H[now]:\n",
    "                minIndex = Left\n",
    "            else:\n",
    "                minIndex = now\n",
    "            if Right < size and self.H[Right] < self.H[minIndex]:\n",
    "                minIndex = Right\n",
    "            if now != minIndex:\n",
    "                self.H[now], self.H[minIndex] =  self.H[minIndex], self.H[now]\n",
    "                now = minIndex\n",
    "            else:\n",
    "                break\n",
    "            \n",
    "    def makeHeap(self):\n",
    "        size = len(self.H)\n",
    "        # leaf노드가 아닌 첫번째 노드부터 root까지 올라가면서, 문제가 발생하면 아래의 모든 노드를 고치기\n",
    "        for i in range(size//2, -1, -1):\n",
    "            self.heapifyDown(i, size)\n",
    "            \n",
    "    def heapSort(self):\n",
    "        self.makeHeap()\n",
    "        size = len(self.H)\n",
    "        for i in range(len(self.H)):\n",
    "            self.H[0], self.H[size-1] = self.H[size-1], self.H[0]\n",
    "            self.heapifyDown(0, size-1)\n",
    "            size -= 1\n",
    "    def deleteMin(self):\n",
    "        min = self.H[0]\n",
    "        self.H[0]\n",
    "    \n",
    "    def heapifyUp(self, now):\n",
    "        p = (now-1)//2\n",
    "        while now != 0 and self.H[p] < self.H[now]:\n",
    "            self.H[p], self.H[now] = self.H[now], self.H[p]\n",
    "            now = p\n",
    "            \n",
    "    def insert(self, key):\n",
    "        self.H.append()"
   ]
  },
  {
   "cell_type": "code",
   "execution_count": 43,
   "metadata": {},
   "outputs": [
    {
     "ename": "TypeError",
     "evalue": "MinHeap.swap() takes 2 positional arguments but 3 were given",
     "output_type": "error",
     "traceback": [
      "\u001b[0;31m---------------------------------------------------------------------------\u001b[0m",
      "\u001b[0;31mTypeError\u001b[0m                                 Traceback (most recent call last)",
      "Cell \u001b[0;32mIn[43], line 1\u001b[0m\n\u001b[0;32m----> 1\u001b[0m H \u001b[38;5;241m=\u001b[39m \u001b[43mMinHeap\u001b[49m\u001b[43m(\u001b[49m\u001b[43m[\u001b[49m\u001b[38;5;241;43m63\u001b[39;49m\u001b[43m,\u001b[49m\u001b[43m \u001b[49m\u001b[38;5;241;43m2\u001b[39;49m\u001b[43m,\u001b[49m\u001b[43m \u001b[49m\u001b[38;5;241;43m3\u001b[39;49m\u001b[43m \u001b[49m\u001b[43m,\u001b[49m\u001b[38;5;241;43m4\u001b[39;49m\u001b[43m \u001b[49m\u001b[43m,\u001b[49m\u001b[43m \u001b[49m\u001b[38;5;241;43m-\u001b[39;49m\u001b[38;5;241;43m23\u001b[39;49m\u001b[43m,\u001b[49m\u001b[43m \u001b[49m\u001b[38;5;241;43m7\u001b[39;49m\u001b[43m]\u001b[49m\u001b[43m)\u001b[49m\n\u001b[1;32m      2\u001b[0m \u001b[38;5;28mprint\u001b[39m(H)\n\u001b[1;32m      3\u001b[0m H\u001b[38;5;241m.\u001b[39mheapSort()\n",
      "Cell \u001b[0;32mIn[42], line 4\u001b[0m, in \u001b[0;36mMinHeap.__init__\u001b[0;34m(self, L)\u001b[0m\n\u001b[1;32m      2\u001b[0m \u001b[38;5;28;01mdef\u001b[39;00m \u001b[38;5;21m__init__\u001b[39m(\u001b[38;5;28mself\u001b[39m, L\u001b[38;5;241m=\u001b[39m[]):\n\u001b[1;32m      3\u001b[0m     \u001b[38;5;28mself\u001b[39m\u001b[38;5;241m.\u001b[39mH \u001b[38;5;241m=\u001b[39m L\n\u001b[0;32m----> 4\u001b[0m     \u001b[38;5;28;43mself\u001b[39;49m\u001b[38;5;241;43m.\u001b[39;49m\u001b[43mmakeHeap\u001b[49m\u001b[43m(\u001b[49m\u001b[43m)\u001b[49m\n",
      "Cell \u001b[0;32mIn[42], line 36\u001b[0m, in \u001b[0;36mMinHeap.makeHeap\u001b[0;34m(self)\u001b[0m\n\u001b[1;32m     34\u001b[0m \u001b[38;5;66;03m# leaf노드가 아닌 첫번째 노드부터 root까지 올라가면서, 문제가 발생하면 아래의 모든 노드를 고치기\u001b[39;00m\n\u001b[1;32m     35\u001b[0m \u001b[38;5;28;01mfor\u001b[39;00m i \u001b[38;5;129;01min\u001b[39;00m \u001b[38;5;28mrange\u001b[39m(size\u001b[38;5;241m/\u001b[39m\u001b[38;5;241m/\u001b[39m\u001b[38;5;241m2\u001b[39m, \u001b[38;5;241m-\u001b[39m\u001b[38;5;241m1\u001b[39m, \u001b[38;5;241m-\u001b[39m\u001b[38;5;241m1\u001b[39m):\n\u001b[0;32m---> 36\u001b[0m     \u001b[38;5;28;43mself\u001b[39;49m\u001b[38;5;241;43m.\u001b[39;49m\u001b[43mheapifyDown\u001b[49m\u001b[43m(\u001b[49m\u001b[43mi\u001b[49m\u001b[43m,\u001b[49m\u001b[43m \u001b[49m\u001b[43msize\u001b[49m\u001b[43m)\u001b[49m\n",
      "Cell \u001b[0;32mIn[42], line 27\u001b[0m, in \u001b[0;36mMinHeap.heapifyDown\u001b[0;34m(self, now, size)\u001b[0m\n\u001b[1;32m     25\u001b[0m     minIndex \u001b[38;5;241m=\u001b[39m Right\n\u001b[1;32m     26\u001b[0m \u001b[38;5;28;01mif\u001b[39;00m now \u001b[38;5;241m!=\u001b[39m minIndex:\n\u001b[0;32m---> 27\u001b[0m     \u001b[38;5;28;43mself\u001b[39;49m\u001b[38;5;241;43m.\u001b[39;49m\u001b[43mswap\u001b[49m\u001b[43m(\u001b[49m\u001b[38;5;28;43mself\u001b[39;49m\u001b[38;5;241;43m.\u001b[39;49m\u001b[43mH\u001b[49m\u001b[43m[\u001b[49m\u001b[43mnow\u001b[49m\u001b[43m]\u001b[49m\u001b[43m,\u001b[49m\u001b[43m \u001b[49m\u001b[38;5;28;43mself\u001b[39;49m\u001b[38;5;241;43m.\u001b[39;49m\u001b[43mH\u001b[49m\u001b[43m[\u001b[49m\u001b[43mminIndex\u001b[49m\u001b[43m]\u001b[49m\u001b[43m)\u001b[49m\n\u001b[1;32m     28\u001b[0m     now \u001b[38;5;241m=\u001b[39m minIndex\n\u001b[1;32m     29\u001b[0m \u001b[38;5;28;01melse\u001b[39;00m:\n",
      "\u001b[0;31mTypeError\u001b[0m: MinHeap.swap() takes 2 positional arguments but 3 were given"
     ]
    }
   ],
   "source": [
    "H = MinHeap([63, 2, 3 ,4 , -23, 7])\n",
    "print(H)\n",
    "H.heapSort()\n",
    "print(H)"
   ]
  },
  {
   "cell_type": "code",
   "execution_count": null,
   "metadata": {},
   "outputs": [],
   "source": []
  }
 ],
 "metadata": {
  "kernelspec": {
   "display_name": "phs",
   "language": "python",
   "name": "python3"
  },
  "language_info": {
   "codemirror_mode": {
    "name": "ipython",
    "version": 3
   },
   "file_extension": ".py",
   "mimetype": "text/x-python",
   "name": "python",
   "nbconvert_exporter": "python",
   "pygments_lexer": "ipython3",
   "version": "3.12.5"
  }
 },
 "nbformat": 4,
 "nbformat_minor": 2
}
