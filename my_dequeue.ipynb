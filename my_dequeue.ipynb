{
 "cells": [
  {
   "cell_type": "markdown",
   "metadata": {},
   "source": [
    "<pre>\n",
    "<h1>\n",
    "Dequeue?\n",
    "</h1>\n",
    "      appendLeft, popLeft <-> [][][][][][][] <-> appedRight, popRight\n",
    "\n",
    "리스트의 양 끝에서 삽입과 삭제가 이뤄짐\n",
    "\n",
    "<h1>\n",
    "Dequeue Class\n",
    "</h1>\n",
    "- Attributes\n",
    "`my_Queue.queue`        => 큐를 상속받아서 큐의 맴버로 사용되는 빈 리스트 사용\n",
    "`my_Queue.frontIndex`\n",
    "\n",
    "- Methods\n",
    "    Special Methods\n",
    "    `__init__`          => 부모(큐)의 생성자 호출\n",
    "\n",
    "    Instance Methods\n",
    "    `appendRight`       => 리스트의 append 사용\n",
    "    `popRight`          => 부모의 dequeue 호출\n",
    "                            => 길이가 0인 경우, \"Dequeue is empty\"\n",
    "    `appendLeft`        => 부모의 enqueue 호출\n",
    "    `popLeft`           => 리스트의 pop 사용\n",
    "\n",
    "\n",
    "문제점\n",
    "    메모리 비효율적 사용, 및 frontIndex 이용으로 거짓 길이 반환, 따라서 개발 시, len과 __len__을 구분해서 사용해야하는 불편함\n",
    "\n",
    "리스트가 아니라, 양방향 연결 리스트로 구성하면 더 효율적일듯 O(1)\n",
    "왼쪽 삭제 시 myQueue 클래스의 dequeue 호출\n",
    "</pre>"
   ]
  },
  {
   "cell_type": "code",
   "execution_count": 1,
   "metadata": {},
   "outputs": [],
   "source": [
    "from my_modules.my_queue import myQueue\n",
    "\n",
    "# 상속 연습을 위해 queue사용 : \n",
    "# 단점, list 이름이 queue라서 별로 좋지 않음, 객체 생성으로 인한 메모리 차지로 성능 저하\n",
    "# 장점, 특수 메서드 재사용\n",
    "class myDequeue(myQueue) :\n",
    "    def __init__(self):\n",
    "        super().__init__()\n",
    "\n",
    "    # 왼쪽 연산\n",
    "    # 왼쪽 삽입  a -> [a][][][][] \n",
    "    def appendLeft(self, item):\n",
    "    # 첫 요소라면 단순 append 호출 (이떄 호출하는 길이 함수는 queue의 거짓 길이가 아님)\n",
    "        if len(self.queue) == 0 :\n",
    "            self.queue.append(item)\n",
    "            print(\"*** myDequeue.appendLeft : it's first element ***\")\n",
    "    # new item 뒤에 deque 복사\n",
    "        else :\n",
    "            self.queue = [item] + self.queue\n",
    "    # 왼쪽 삭제 a <- [a][][][][] : return 값으로 부모의 deuque 호출 \n",
    "    def popLeft(self):\n",
    "        return self.dequeue()\n",
    "\n",
    "    # 오른쪽 연산\n",
    "    # 오른쪽 삽입 [][][][][a] <- a : 단순 append 호출 \n",
    "    def appendRight(self, item) :\n",
    "        self.queue.append(item)\n",
    "    def popRight(self):\n",
    "    # 부모 클래스의 거짓 길이를 구하는 특수 메서드를 호출하여, 빈 리스트로 취급되면 메시지 \n",
    "        if self.__len__() == 0:\n",
    "            print(\"*** myDequeue.popRight : Dequeue is empty ***\")\n",
    "    # 오른쪽 삭제 [][][][][a] -> a : 단순 pop 호출\n",
    "        else :\n",
    "            return self.queue.pop()\n",
    "\n",
    "# ToDo 메모리 낭비 개선\n",
    "# 1. 연결리스트를 이용한 구현\n",
    "# 2. popLeft(self)에서 호출한 부모의 dequeue 내부 메시지가 사용됨을 확인"
   ]
  },
  {
   "cell_type": "code",
   "execution_count": 2,
   "metadata": {},
   "outputs": [
    {
     "name": "stdout",
     "output_type": "stream",
     "text": [
      "[]   len : 0\n"
     ]
    }
   ],
   "source": [
    "# 생성자 호출하여 인스턴스 생성\n",
    "deque = myDequeue()\n",
    "print(deque, \"  len :\", len(deque))"
   ]
  },
  {
   "cell_type": "code",
   "execution_count": 3,
   "metadata": {},
   "outputs": [
    {
     "name": "stdout",
     "output_type": "stream",
     "text": [
      "*** myDequeue.appendLeft : it's first element ***\n",
      "[1]   len : 1\n",
      "[2, 1]   len : 2\n",
      "[3, 2, 1]   len : 3\n"
     ]
    }
   ],
   "source": [
    "# 왼쪽 삽입  a -> [a][][][][]\n",
    "deque.appendLeft(1)\n",
    "print(deque, \"  len :\", len(deque))\n",
    "deque.appendLeft(2)\n",
    "print(deque, \"  len :\", len(deque))\n",
    "deque.appendLeft(3)\n",
    "print(deque, \"  len :\", len(deque))"
   ]
  },
  {
   "cell_type": "code",
   "execution_count": 4,
   "metadata": {},
   "outputs": [
    {
     "name": "stdout",
     "output_type": "stream",
     "text": [
      "3 [2, 1]   len : 2\n",
      "2 [1]   len : 1\n",
      "1 []   len : 0\n",
      "*** myQueue.dequeue : Queue is empty ***\n",
      "None []   len : 0\n"
     ]
    }
   ],
   "source": [
    "# 왼쪽 삭제 a <- [a][][][][]\n",
    "print(deque.popLeft(), deque, \"  len :\", len(deque))\n",
    "print(deque.popLeft(), deque, \"  len :\", len(deque))\n",
    "print(deque.popLeft(), deque, \"  len :\", len(deque))\n",
    "print(deque.popLeft(), deque, \"  len :\", len(deque))"
   ]
  },
  {
   "cell_type": "code",
   "execution_count": 5,
   "metadata": {},
   "outputs": [
    {
     "name": "stdout",
     "output_type": "stream",
     "text": [
      "[1]   len : 1\n",
      "[1, 2]   len : 2\n",
      "[1, 2, 3]   len : 3\n"
     ]
    }
   ],
   "source": [
    "# 오른쪽 삽입 [][][][][a] <- a\n",
    "deque.appendRight(1)\n",
    "print(deque, \"  len :\", len(deque))\n",
    "\n",
    "deque.appendRight(2)\n",
    "print(deque, \"  len :\", len(deque))\n",
    "\n",
    "deque.appendRight(3)\n",
    "print(deque, \"  len :\", len(deque))"
   ]
  },
  {
   "cell_type": "code",
   "execution_count": 6,
   "metadata": {},
   "outputs": [
    {
     "name": "stdout",
     "output_type": "stream",
     "text": [
      "1\n",
      "2\n",
      "3\n"
     ]
    }
   ],
   "source": [
    "# 상속받은 이터레이터 확인\n",
    "for i in deque:\n",
    "    print(i)"
   ]
  },
  {
   "cell_type": "code",
   "execution_count": 7,
   "metadata": {},
   "outputs": [
    {
     "name": "stdout",
     "output_type": "stream",
     "text": [
      "[1, 2] 3\n",
      "[1] 2\n",
      "[] 1\n",
      "*** myDequeue.popRight : Dequeue is empty ***\n",
      "[] None\n"
     ]
    }
   ],
   "source": [
    "# 오른쪽 삭제 [][][][][a] -> a\n",
    "print(deque, deque.popRight())\n",
    "print(deque, deque.popRight())\n",
    "print(deque, deque.popRight())\n",
    "print(deque, deque.popRight())"
   ]
  }
 ],
 "metadata": {
  "kernelspec": {
   "display_name": "phs",
   "language": "python",
   "name": "python3"
  },
  "language_info": {
   "codemirror_mode": {
    "name": "ipython",
    "version": 3
   },
   "file_extension": ".py",
   "mimetype": "text/x-python",
   "name": "python",
   "nbconvert_exporter": "python",
   "pygments_lexer": "ipython3",
   "version": "3.12.4"
  }
 },
 "nbformat": 4,
 "nbformat_minor": 2
}
